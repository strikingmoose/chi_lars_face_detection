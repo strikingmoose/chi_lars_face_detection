{
 "cells": [
  {
   "cell_type": "markdown",
   "metadata": {},
   "source": [
    "# 11 - Building & Training Convolutional Neural Network\n",
    "## Feature Building\n",
    "In the last post, I looked at loading and resizing images within cv2, an image processing library in python. In this post, I'm going to aggregate all the photos of me and my girlfriend and create an input feature array to pass into our TFlearn model. Let's get it.\n",
    "\n",
    "All my photos are stored on my s3 repository. I'm going to use boto to get all the photos into a multidimensional array. When I was looking at the MNIST stuff, I had an array of something like [10000, 28, 28, 1], or\n",
    "- 10 thousand images\n",
    "- 28 rows\n",
    "- 28 columns\n",
    "- 1 pixel\n",
    "\n",
    "I'm going to try to replicate this format."
   ]
  },
  {
   "cell_type": "code",
   "execution_count": 99,
   "metadata": {
    "collapsed": true
   },
   "outputs": [],
   "source": [
    "import cv2\n",
    "import numpy as np\n",
    "import pandas as pd\n",
    "import urllib\n",
    "import math\n",
    "import boto3\n",
    "import os\n",
    "import copy\n",
    "from tqdm import tqdm\n",
    "from matplotlib import pyplot as plt\n",
    "%matplotlib inline"
   ]
  },
  {
   "cell_type": "code",
   "execution_count": 2,
   "metadata": {
    "collapsed": true
   },
   "outputs": [],
   "source": [
    "# Connect to s3 bucket\n",
    "s3 = boto3.resource('s3', region_name = 'ca-central-1')\n",
    "my_bucket = s3.Bucket('2017edmfasatb')"
   ]
  },
  {
   "cell_type": "code",
   "execution_count": 3,
   "metadata": {
    "collapsed": true,
    "scrolled": true
   },
   "outputs": [],
   "source": [
    "# Get all files in the project directory under chi_lars_face_detection/photos/\n",
    "chi_photos = [i.key for i in my_bucket.objects.all() if 'chi_lars_face_detection/photos/chi/' in i.key]\n",
    "lars_photos = [i.key for i in my_bucket.objects.all() if 'chi_lars_face_detection/photos/lars/' in i.key]"
   ]
  },
  {
   "cell_type": "code",
   "execution_count": 4,
   "metadata": {},
   "outputs": [
    {
     "name": "stdout",
     "output_type": "stream",
     "text": [
      "There are 203 photos of Chi and 200 photos of Lars\n"
     ]
    }
   ],
   "source": [
    "print('There are {} photos of Chi and {} photos of Lars'.format(len(chi_photos), len(lars_photos)))"
   ]
  },
  {
   "cell_type": "markdown",
   "metadata": {},
   "source": [
    "Doing some really quick math, we will have\n",
    "\n",
    "$$181\\ Pixel\\ Rows\\times 181\\ Pixel\\ Columns=32,761\\ Pixels\\ Per\\ Photos$$\n",
    "\n",
    "This gives us\n",
    "\n",
    "$$32,761\\ Pixels\\times 403\\ Photos=13.2M\\ Pixels$$\n",
    "\n",
    "which is good for\n",
    "\n",
    "$$13.2M\\ Pixels\\times 8\\ Bits\\ Per\\ Pixel\\approx106Mb$$\n",
    "\n",
    "That's just the top of my head calculation to get a sense of how big the data set is. For reference, the MNIST dataset comes out to\n",
    "\n",
    "$$28\\ Pixel\\ Rows\\times 28\\ Pixel\\ Columns\\times 65,000\\ Photos\\times 8\\ Bits\\approx408Mb$$\n",
    "\n",
    "My data set, while _**significantly less training samples (400 vs 65,000)**_, is actually already a quarter of the size of the MNIST data set. Good to know for reference. We'll be convoluting these down before we enter them into our NN anyways, but that convolution still takes some time depending on image size too.\n",
    "\n",
    "I might have to think a bit about how I want the convolution and max pooling to be done as well. The convolution portion of the MNIST tutorial from sentdex went down like this:\n",
    "- 28 x 28 input\n",
    "- 2D convolutional layer with 32 filters of size 2 x 2\n",
    "- 2D max pooling on 2 x 2 windows\n",
    "- 2d convolutional layer with 64 filters of size 2 x 2\n",
    "- 2D max pooling on 2 x 2 windows\n",
    "\n",
    "We have to think about what the convolutional filters are doing here... The convolutional filters are trying to find _**patterns**_ in the image:\n",
    "\n",
    "<img src=\"https://s3.ca-central-1.amazonaws.com/2017edmfasatb/chi_lars_face_detection/images/15_finished_convolution_3_filters.png\" style=\"width: 500px;\"/>\n",
    "\n",
    "My first instinct is that I need my convolutional filter to actually be large enough to represent some part of the image, and small enough to zone in on a specific part of the image. My first instinct is to maybe take something that can represent part of my ear / mouth / eye / nose... Maybe something like this:"
   ]
  },
  {
   "cell_type": "code",
   "execution_count": 5,
   "metadata": {
    "collapsed": true
   },
   "outputs": [],
   "source": [
    "# Define function to convert URL to numpy array\n",
    "def url_to_image(url):\n",
    "    # Download the image, convert it to a numpy array, and then read it into OpenCV format\n",
    "    resp = urllib.urlopen(url)\n",
    "    image = np.asarray(bytearray(resp.read()), dtype=\"uint8\")\n",
    "    image = cv2.imdecode(image, cv2.IMREAD_GRAYSCALE)\n",
    "    \n",
    "    # Rotate image\n",
    "    image = np.rot90(image, 3)\n",
    "    \n",
    "    # Build resize into function\n",
    "    image = cv2.resize(image, (0,0), fx=0.06, fy=0.06)\n",
    "\n",
    "    # Return the image\n",
    "    return image"
   ]
  },
  {
   "cell_type": "code",
   "execution_count": 6,
   "metadata": {
    "collapsed": true
   },
   "outputs": [],
   "source": [
    "# Load image from URL on S3\n",
    "img_chi = url_to_image('https://s3.ca-central-1.amazonaws.com/2017edmfasatb/chi_lars_face_detection/photos/chi/IMG_1265.JPG')"
   ]
  },
  {
   "cell_type": "code",
   "execution_count": 7,
   "metadata": {
    "collapsed": true
   },
   "outputs": [],
   "source": [
    "# Draw rectangle\n",
    "img_chi = cv2.rectangle(\n",
    "    img_chi, \n",
    "    (130, 90),      # Top left vertex of rectangle\n",
    "    (140, 100),     # Bottom right vertex of rectangle\n",
    "    (0, 0, 0),      # BGR color of rectangle\n",
    "    1               # Pixel width of rectangle lines\n",
    ")"
   ]
  },
  {
   "cell_type": "code",
   "execution_count": 8,
   "metadata": {},
   "outputs": [
    {
     "data": {
      "text/plain": [
       "<matplotlib.image.AxesImage at 0x10f387d10>"
      ]
     },
     "execution_count": 8,
     "metadata": {},
     "output_type": "execute_result"
    },
    {
     "data": {
      "image/png": "[encoded data removed]",
      "text/plain": [
       "<matplotlib.figure.Figure at 0x10f354e90>"
      ]
     },
     "metadata": {},
     "output_type": "display_data"
    }
   ],
   "source": [
    "# Show image in matplotlib\n",
    "plt.imshow(img_chi, cmap='gray')"
   ]
  },
  {
   "cell_type": "markdown",
   "metadata": {},
   "source": [
    "To me, that seems like a decent filter size... But we have to remember that _**I don't know Jack**_.\n",
    "\n",
    "<img src=\"https://gamefaqs.akamaized.net/box/1/2/3/9123_front.jpg\" style=\"width: 300px;\"/>\n",
    "\n",
    "That, my friend, is what I call a throwback haha. But yeah I really don't know if this is the right choice, but let's try trial by fire. I'll start with a filter size of 10 x 10 pixels (represented by the rectangle above, but I also need to think about how many filters I need. For the MNIST dataset, we used 32 and then 64 filters. The image itself is only 28 x 28, so we had roughly the same number of filters as there is width / height pixels of the image, and then double that. By that logic, maybe I should try... 200 and 400? I really don't quite understand the impact of these numbers on performance yet.\n",
    "\n",
    "In the max pooling steps, we are reducing the size of our convoluted layers by summarizing a window of pixels with a single pixel. In the MNIST tutorial, we used a 2 x 2 window for max pooling, so our 4-pixel window gets summarized by 1 pixel, so our image becomes 4 times smaller... from 181 x 181 down to ~90 x 90. This gets convoluted and max pooled again down to ~45 x 45 in the second convolutional layer. Anyways, I think that's how it will work. I'm going to make it a point to see if I can explore the results of the first and second convolutional layer. I\"m really not sure if I'll be able to, but it would be pretty cool and would add a lot to my understanding.\n",
    "\n",
    "Without further ado, let's get these photos into an array."
   ]
  },
  {
   "cell_type": "code",
   "execution_count": 9,
   "metadata": {
    "collapsed": true
   },
   "outputs": [],
   "source": [
    "# Loop through all files to download into a single array from AWS\n",
    "url_prefix = 'https://s3.ca-central-1.amazonaws.com/2017edmfasatb'"
   ]
  },
  {
   "cell_type": "code",
   "execution_count": 10,
   "metadata": {},
   "outputs": [
    {
     "name": "stderr",
     "output_type": "stream",
     "text": [
      "100%|██████████| 203/203 [04:18<00:00,  1.37s/it]\n"
     ]
    }
   ],
   "source": [
    "# Trying out the new tqdm library for progress bar\n",
    "chi_photos_list = [url_to_image(os.path.join(url_prefix, x)) for x in tqdm(chi_photos)]"
   ]
  },
  {
   "cell_type": "markdown",
   "metadata": {},
   "source": [
    "Nice! It looks like if we wrap our iterating object around the _**[tqdm](https://pypi.python.org/pypi/tqdm)**_ function, we get an animated toolbar that tells us which iteration is currently being processed, how long each iteration is taking, and how long all the iterations are expected to take.\n",
    "\n",
    "At the end of the day, it took around 4 minutes to pull all the photos of me, but this includes the rotating and resizing of the photos as well (although I'm sure that's not _**too much**_ overhead)."
   ]
  },
  {
   "cell_type": "code",
   "execution_count": 11,
   "metadata": {},
   "outputs": [
    {
     "name": "stderr",
     "output_type": "stream",
     "text": [
      "100%|██████████| 200/200 [04:41<00:00,  1.39s/it]\n"
     ]
    }
   ],
   "source": [
    "# Trying out the new tqdm library for progress bar\n",
    "lars_photos_list = [url_to_image(os.path.join(url_prefix, x)) for x in tqdm(lars_photos)]"
   ]
  },
  {
   "cell_type": "code",
   "execution_count": 19,
   "metadata": {
    "collapsed": true
   },
   "outputs": [],
   "source": [
    "# Convert to numpy arrays\n",
    "chi_photos_np = np.array(chi_photos_list)\n",
    "lars_photos_np = np.array(lars_photos_list)"
   ]
  },
  {
   "cell_type": "code",
   "execution_count": 20,
   "metadata": {},
   "outputs": [
    {
     "data": {
      "text/plain": [
       "(203, 181, 181)"
      ]
     },
     "execution_count": 20,
     "metadata": {},
     "output_type": "execute_result"
    }
   ],
   "source": [
    "# View shape of numpy array\n",
    "chi_photos_np.shape"
   ]
  },
  {
   "cell_type": "markdown",
   "metadata": {},
   "source": [
    "It looks like we've got 3 dimensions in our numpy... We had 4 dimensions in our MNIST data array unfortunately. The dimensions should look something like $[203, 181, 181, 1]$, I guess every every individual element of the array needs to... well be it's own array. An array of one single number. Looking back at the MNIST tutorial now, it seems that the data is also _**scaled**_ between 0 and 1, which I assume represents 0 and 255... Boy, I have a decent amount of cleaning to do.\n",
    "\n",
    "## Scaling Inputs\n",
    "Let's tackle the scaling first. Sklearn has a scaler that can be easily used to transform the data. We are working with 2D arrays here, however, so I might have to define the scaling limits manually and scale the images as they're coming in in my **url_to_image** function."
   ]
  },
  {
   "cell_type": "code",
   "execution_count": 26,
   "metadata": {},
   "outputs": [
    {
     "name": "stdout",
     "output_type": "stream",
     "text": [
      "Image shape is: (181, 181)\n",
      "[[140 139 145 ..., 158 162 160]\n",
      " [137 142 140 ..., 158 161 159]\n",
      " [140 140 139 ..., 159 160 159]\n",
      " ..., \n",
      " [144 144 151 ..., 164 162 166]\n",
      " [144 143 146 ..., 166 165 164]\n",
      " [145 146 145 ..., 165 165 168]]\n"
     ]
    }
   ],
   "source": [
    "# Review image shape\n",
    "print('Image shape is: {}'.format(img_chi.shape))\n",
    "\n",
    "# Review image values\n",
    "print(img_chi[:50, :50])"
   ]
  },
  {
   "cell_type": "code",
   "execution_count": 27,
   "metadata": {
    "collapsed": true
   },
   "outputs": [],
   "source": [
    "# Try out scaler on a manually set data (min of 0, max of 255)\n",
    "from sklearn.preprocessing import MinMaxScaler"
   ]
  },
  {
   "cell_type": "code",
   "execution_count": 35,
   "metadata": {},
   "outputs": [
    {
     "data": {
      "text/plain": [
       "array([[  0],\n",
       "       [255]])"
      ]
     },
     "execution_count": 35,
     "metadata": {},
     "output_type": "execute_result"
    }
   ],
   "source": [
    "# Set test data list to train on (min of 0, max of 255)\n",
    "test_list = np.array([0, 255]).reshape(-1, 1)\n",
    "test_list"
   ]
  },
  {
   "cell_type": "code",
   "execution_count": 36,
   "metadata": {
    "collapsed": true
   },
   "outputs": [],
   "source": [
    "# Initialize scaler\n",
    "scaler = MinMaxScaler()"
   ]
  },
  {
   "cell_type": "code",
   "execution_count": 37,
   "metadata": {},
   "outputs": [
    {
     "name": "stderr",
     "output_type": "stream",
     "text": [
      "/Users/chiwang/anaconda/lib/python2.7/site-packages/sklearn/utils/validation.py:420: DataConversionWarning: Data with input dtype int64 was converted to float64 by MinMaxScaler.\n",
      "  warnings.warn(msg, DataConversionWarning)\n"
     ]
    },
    {
     "data": {
      "text/plain": [
       "MinMaxScaler(copy=True, feature_range=(0, 1))"
      ]
     },
     "execution_count": 37,
     "metadata": {},
     "output_type": "execute_result"
    }
   ],
   "source": [
    "# Fit test list\n",
    "scaler.fit(test_list)"
   ]
  },
  {
   "cell_type": "code",
   "execution_count": 39,
   "metadata": {},
   "outputs": [
    {
     "data": {
      "text/plain": [
       "array([[ 0.        ],\n",
       "       [ 0.03921569],\n",
       "       [ 0.39215686],\n",
       "       [ 0.78431373],\n",
       "       [ 1.        ]])"
      ]
     },
     "execution_count": 39,
     "metadata": {},
     "output_type": "execute_result"
    }
   ],
   "source": [
    "scaler.transform(np.array([0, 10, 100, 200, 255]).reshape(-1, 1))"
   ]
  },
  {
   "cell_type": "markdown",
   "metadata": {},
   "source": [
    "It looks like it's doing well. I have my scaler in hand.\n",
    "\n",
    "## Reshaping 3D Array To 4D Array\n",
    "Revisiting my problem before - How do I get my $[203, 181, 181]$ array to a $[203, 181, 181, 1]$ shape? Well, actually, I think sklearn has actually answered that question for me with a warning message haha. In the last section, when I created my test list, I used:\n",
    "\n",
    "~~~~\n",
    "test_list = np.array([0, 255]).reshape(-1, 1)\n",
    "~~~~\n",
    "\n",
    "That _**reshape(-1, 1)**_ part somehow made all my elements into singular arrays. So, by [this post](https://stackoverflow.com/questions/18691084/what-does-1-mean-in-numpy-reshape), the _**-1**_ parameter for _**reshape**_ means an \"undisclosed\" dimension.\n",
    "\n",
    "We tested with a $[1, 2]$ array (one row, two columns). By reshaping to (-1, 1), we are saying\n",
    "1. We first want to ensure that there is only one column\n",
    "2. We then don't care about the number of rows in the resulting array as long as we have one column (the _**-1 parameter**_)\n",
    "\n",
    "We now have a $[2, 1]$ array as a result. It looks like the reshape command is what I need here. Let's try it on the array with my photos."
   ]
  },
  {
   "cell_type": "code",
   "execution_count": 40,
   "metadata": {},
   "outputs": [
    {
     "data": {
      "text/plain": [
       "(203, 181, 181, 1)"
      ]
     },
     "execution_count": 40,
     "metadata": {},
     "output_type": "execute_result"
    }
   ],
   "source": [
    "chi_photos_np.reshape(-1, 181, 181, 1).shape"
   ]
  },
  {
   "cell_type": "markdown",
   "metadata": {},
   "source": [
    "Nice! I've done it! It was easier than I had ever imaged. Definitely have to remember reshape for future uses.\n",
    "\n",
    "## Putting It All Together\n",
    "Let's try to reshape and scale the inputs. I think the sklearn scalers take in a 1 dimensional array, so maybe I can use reshape to get the data ready there as well!"
   ]
  },
  {
   "cell_type": "code",
   "execution_count": 46,
   "metadata": {},
   "outputs": [
    {
     "data": {
      "text/plain": [
       "array([[139, 136, 136, ..., 141, 140, 138]], dtype=uint8)"
      ]
     },
     "execution_count": 46,
     "metadata": {},
     "output_type": "execute_result"
    }
   ],
   "source": [
    "# Reshape to prepare for scaler\n",
    "chi_photos_np_flat = chi_photos_np.reshape(1, -1)\n",
    "chi_photos_np_flat[:10]"
   ]
  },
  {
   "cell_type": "code",
   "execution_count": 47,
   "metadata": {},
   "outputs": [
    {
     "data": {
      "text/plain": [
       "array([[ 0.54509804,  0.53333333,  0.53333333, ...,  0.55294118,\n",
       "         0.54901961,  0.54117647]])"
      ]
     },
     "execution_count": 47,
     "metadata": {},
     "output_type": "execute_result"
    }
   ],
   "source": [
    "# Scale\n",
    "chi_photos_np_scaled = scaler.transform(chi_photos_np_flat)\n",
    "chi_photos_np_scaled[:10]"
   ]
  },
  {
   "cell_type": "markdown",
   "metadata": {},
   "source": [
    "Beauty! Let's do this for Lars' photos as well."
   ]
  },
  {
   "cell_type": "code",
   "execution_count": 48,
   "metadata": {
    "collapsed": true
   },
   "outputs": [],
   "source": [
    "# Reshape to prepare for scaler\n",
    "lars_photos_np_flat = lars_photos_np.reshape(1, -1)\n",
    "lars_photos_np_scaled = scaler.transform(lars_photos_np_flat)"
   ]
  },
  {
   "cell_type": "markdown",
   "metadata": {},
   "source": [
    "Now let's reshape."
   ]
  },
  {
   "cell_type": "code",
   "execution_count": 49,
   "metadata": {},
   "outputs": [
    {
     "name": "stdout",
     "output_type": "stream",
     "text": [
      "chi_photos_reshaped has shape: (203, 181, 181, 1)\n",
      "lars_photos_reshaped has shape: (200, 181, 181, 1)\n"
     ]
    }
   ],
   "source": [
    "# Reshape\n",
    "chi_photos_reshaped = chi_photos_np_scaled.reshape(-1, 181, 181, 1)\n",
    "lars_photos_reshaped = lars_photos_np_scaled.reshape(-1, 181, 181, 1)\n",
    "\n",
    "print('{} has shape: {}'. format('chi_photos_reshaped', chi_photos_reshaped.shape))\n",
    "print('{} has shape: {}'. format('lars_photos_reshaped', lars_photos_reshaped.shape))"
   ]
  },
  {
   "cell_type": "markdown",
   "metadata": {},
   "source": [
    "I can't really check to see if the photos are back in their original form because the RGB values are off now... I'll have to assume that the reshape put everything back togehter in its original place.\n",
    "\n",
    "My final step is just to concatenate these two Chi / Lars arrays into a single x_input array."
   ]
  },
  {
   "cell_type": "code",
   "execution_count": 80,
   "metadata": {},
   "outputs": [
    {
     "name": "stdout",
     "output_type": "stream",
     "text": [
      "x_input has shape: (203, 181, 181, 1)\n"
     ]
    }
   ],
   "source": [
    "# Create copy of chi's photos to start populating x_input\n",
    "x_input = copy.deepcopy(chi_photos_reshaped)\n",
    "\n",
    "print('{} has shape: {}'. format('x_input', x_input.shape))"
   ]
  },
  {
   "cell_type": "code",
   "execution_count": 81,
   "metadata": {},
   "outputs": [
    {
     "name": "stdout",
     "output_type": "stream",
     "text": [
      "x_input has shape: (403, 181, 181, 1)\n"
     ]
    }
   ],
   "source": [
    "# Concatentate lars' photos to existing x_input\n",
    "x_input = np.append(x_input, lars_photos_reshaped, axis = 0)\n",
    "\n",
    "print('{} has shape: {}'. format('x_input', x_input.shape))"
   ]
  },
  {
   "cell_type": "markdown",
   "metadata": {},
   "source": [
    "I think I'm finally ready to train! Oh wait... I haven't prepared the labels."
   ]
  },
  {
   "cell_type": "markdown",
   "metadata": {},
   "source": [
    "## Preparing Labels\n",
    "In the MNIST data set, the labels were one hot encoded, so here, basically the label will be the array $[1, 0]$ when the photo is of me, and $[0, 1]$ when the photo is of my girlfriend. Easy enough."
   ]
  },
  {
   "cell_type": "code",
   "execution_count": 112,
   "metadata": {},
   "outputs": [
    {
     "name": "stdout",
     "output_type": "stream",
     "text": [
      "y_chi has shape: (203, 2)\n",
      "y_lars has shape: (200, 2)\n"
     ]
    }
   ],
   "source": [
    "# Create label arrays\n",
    "y_chi = np.array([[1, 0] for i in chi_photos_reshaped])\n",
    "y_lars = np.array([[0, 1] for i in lars_photos_reshaped])\n",
    "\n",
    "print('{} has shape: {}'. format('y_chi', y_chi.shape))\n",
    "print('{} has shape: {}'. format('y_lars', y_lars.shape))"
   ]
  },
  {
   "cell_type": "code",
   "execution_count": 113,
   "metadata": {},
   "outputs": [
    {
     "data": {
      "text/plain": [
       "array([[1, 0],\n",
       "       [1, 0],\n",
       "       [1, 0],\n",
       "       [1, 0],\n",
       "       [1, 0]])"
      ]
     },
     "execution_count": 113,
     "metadata": {},
     "output_type": "execute_result"
    }
   ],
   "source": [
    "# Preview the first few elements\n",
    "y_chi[:5]"
   ]
  },
  {
   "cell_type": "code",
   "execution_count": 114,
   "metadata": {},
   "outputs": [
    {
     "data": {
      "text/plain": [
       "array([[0, 1],\n",
       "       [0, 1],\n",
       "       [0, 1],\n",
       "       [0, 1],\n",
       "       [0, 1]])"
      ]
     },
     "execution_count": 114,
     "metadata": {},
     "output_type": "execute_result"
    }
   ],
   "source": [
    "y_lars[:5]"
   ]
  },
  {
   "cell_type": "markdown",
   "metadata": {},
   "source": [
    "Let's concatenate these two into one array as well."
   ]
  },
  {
   "cell_type": "code",
   "execution_count": 115,
   "metadata": {},
   "outputs": [
    {
     "name": "stdout",
     "output_type": "stream",
     "text": [
      "y_input has shape: (203, 2)\n"
     ]
    }
   ],
   "source": [
    "# Create copy of chi's labels to start populating y_input\n",
    "y_input = copy.deepcopy(y_chi)\n",
    "\n",
    "print('{} has shape: {}'. format('y_input', y_input.shape))"
   ]
  },
  {
   "cell_type": "code",
   "execution_count": 116,
   "metadata": {},
   "outputs": [
    {
     "name": "stdout",
     "output_type": "stream",
     "text": [
      "y_input has shape: (403, 2)\n"
     ]
    }
   ],
   "source": [
    "# Concatentate lars' labels to existing y_input\n",
    "y_input = np.append(y_input, y_lars, axis = 0)\n",
    "\n",
    "print('{} has shape: {}'. format('y_input', y_input.shape))"
   ]
  },
  {
   "cell_type": "markdown",
   "metadata": {},
   "source": [
    "Ok... NOW I think I'm ready to train..."
   ]
  },
  {
   "cell_type": "markdown",
   "metadata": {},
   "source": [
    "## Training\n",
    "I'm going to just copy and paste the CNN structure I used for the MNIST tutorial and see what happens. I'm running this on my own laptop by the way, let's observe the speed."
   ]
  },
  {
   "cell_type": "code",
   "execution_count": 83,
   "metadata": {
    "collapsed": true
   },
   "outputs": [],
   "source": [
    "# TFlearn libraries\n",
    "import tflearn\n",
    "from tflearn.layers.conv import conv_2d, max_pool_2d\n",
    "from tflearn.layers.core import input_data, dropout, fully_connected\n",
    "from tflearn.layers.estimator import regression\n",
    "import tflearn.datasets.mnist as mnist"
   ]
  },
  {
   "cell_type": "code",
   "execution_count": 84,
   "metadata": {
    "collapsed": true
   },
   "outputs": [],
   "source": [
    "# sentdex's code to build the neural net using tflearn\n",
    "#   Input layer --> conv layer w/ max pooling --> conv layer w/ max pooling --> fully connected layer --> output layer\n",
    "convnet = input_data(shape = [None, 181, 181, 1], name = 'input')\n",
    "\n",
    "convnet = conv_2d(convnet, 200, 10, activation = 'relu')\n",
    "convnet = max_pool_2d(convnet, 2)\n",
    "\n",
    "convnet = conv_2d(convnet, 400, 10, activation = 'relu')\n",
    "convnet = max_pool_2d(convnet, 2)\n",
    "\n",
    "convnet = fully_connected(convnet, 1024, activation = 'relu')\n",
    "convnet = dropout(convnet, 0.8)\n",
    "\n",
    "convnet = fully_connected(convnet, 10, activation = 'softmax')\n",
    "convnet = regression(convnet, optimizer = 'sgd', learning_rate = 0.01, loss = 'categorical_crossentropy', name = 'targets')"
   ]
  },
  {
   "cell_type": "markdown",
   "metadata": {},
   "source": [
    "### Train Test Split\n",
    "I'm just going to do a 90 / 10 train test split here\n",
    "- My training data will consist of roughly 360 training images\n",
    "- My test data will consist of roughly 40 test images"
   ]
  },
  {
   "cell_type": "code",
   "execution_count": 87,
   "metadata": {
    "collapsed": true
   },
   "outputs": [],
   "source": [
    "# Import library\n",
    "from sklearn.cross_validation import train_test_split"
   ]
  },
  {
   "cell_type": "code",
   "execution_count": 119,
   "metadata": {},
   "outputs": [
    {
     "name": "stdout",
     "output_type": "stream",
     "text": [
      "(403, 181, 181, 1)\n",
      "(403, 2)\n"
     ]
    }
   ],
   "source": [
    "print(x_input.shape)\n",
    "print(y_input.shape)"
   ]
  },
  {
   "cell_type": "code",
   "execution_count": 120,
   "metadata": {
    "collapsed": true
   },
   "outputs": [],
   "source": [
    "# Perform train test split\n",
    "x_train, x_test, y_train, y_test = train_test_split(x_input, y_input, test_size = 0.1, stratify = y_input)"
   ]
  },
  {
   "cell_type": "markdown",
   "metadata": {},
   "source": [
    "### Training\n",
    "Let's try training with 1 epoch."
   ]
  },
  {
   "cell_type": "code",
   "execution_count": null,
   "metadata": {
    "collapsed": true
   },
   "outputs": [],
   "source": [
    "# Train with data\n",
    "model = tflearn.DNN(convnet)\n",
    "model.fit(\n",
    "    {'input': x_train},\n",
    "    {'targets': y_train},\n",
    "    n_epoch = 1,\n",
    "    validation_set = ({'input': x_test}, {'targets': y_test}),\n",
    "    snapshot_step = 500,\n",
    "    show_metric = True\n",
    ")"
   ]
  },
  {
   "cell_type": "markdown",
   "metadata": {},
   "source": [
    "--- 5 seconds later ---\n",
    "\n",
    "<span style=\"color:red; font-size: 3em;\">**Welp, that crashed my laptop**</span>\n",
    "\n",
    "My computer just froze up and I had to restart. This is one of those times I need to turn on my AWS batsignal. I'm going to create another copy of this notebook and run it on AWS. I'll use that as my next post."
   ]
  }
 ],
 "metadata": {
  "anaconda-cloud": {},
  "kernelspec": {
   "display_name": "Python [default]",
   "language": "python",
   "name": "python2"
  },
  "language_info": {
   "codemirror_mode": {
    "name": "ipython",
    "version": 2
   },
   "file_extension": ".py",
   "mimetype": "text/x-python",
   "name": "python",
   "nbconvert_exporter": "python",
   "pygments_lexer": "ipython2",
   "version": "2.7.12"
  }
 },
 "nbformat": 4,
 "nbformat_minor": 1
}
